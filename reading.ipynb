{
 "cells": [
  {
   "cell_type": "code",
   "execution_count": 1,
   "metadata": {},
   "outputs": [],
   "source": [
    "import serial\n",
    "import time\n",
    "import matplotlib.pyplot as plt"
   ]
  },
  {
   "cell_type": "code",
   "execution_count": null,
   "metadata": {},
   "outputs": [],
   "source": [
    "# set the port\n",
    "port = 'COM4'\n",
    "# set the baud rate\n",
    "baud = 9600\n",
    "\n",
    "# set up the serial line\n",
    "ser = serial.Serial(port, baud) #change to proper com port\n",
    "time.sleep(2)"
   ]
  },
  {
   "cell_type": "code",
   "execution_count": null,
   "metadata": {},
   "outputs": [],
   "source": [
    "# Read and record the data\n",
    "data =[]                       # empty list to store the data\n",
    "for i in range(50):\n",
    "    b = ser.readline()         # read a byte string\n",
    "    string_n = b.decode()  # decode byte string into Unicode  \n",
    "    string = string_n.rstrip() # remove \\n and \\r\n",
    "    flt = float(string)        # convert string to float\n",
    "    print(flt)\n",
    "    data.append(flt)           # add to the end of data list\n",
    "    time.sleep(0.1)            # wait (sleep) 0.1 seconds\n",
    "\n",
    "ser.close()"
   ]
  },
  {
   "cell_type": "code",
   "execution_count": null,
   "metadata": {},
   "outputs": [],
   "source": [
    "# show the data\n",
    "\n",
    "for line in data:\n",
    "    print(line)"
   ]
  },
  {
   "cell_type": "code",
   "execution_count": null,
   "metadata": {},
   "outputs": [],
   "source": [
    "%matplotlib inline\n",
    "\n",
    "plt.plot(data)\n",
    "plt.xlabel('Time (seconds)')\n",
    "plt.ylabel('Potentiometer Reading')\n",
    "plt.title('Potentiometer Reading vs. Time')\n",
    "plt.show()"
   ]
  }
 ],
 "metadata": {
  "kernelspec": {
   "display_name": ".venv",
   "language": "python",
   "name": "python3"
  },
  "language_info": {
   "codemirror_mode": {
    "name": "ipython",
    "version": 3
   },
   "file_extension": ".py",
   "mimetype": "text/x-python",
   "name": "python",
   "nbconvert_exporter": "python",
   "pygments_lexer": "ipython3",
   "version": "3.9.18"
  }
 },
 "nbformat": 4,
 "nbformat_minor": 2
}
